{
 "cells": [
  {
   "cell_type": "code",
   "execution_count": 24,
   "id": "7146bfc8-7fdf-4413-961f-5ed1764efb3c",
   "metadata": {},
   "outputs": [],
   "source": [
    "from torch.utils.data import Dataset\n",
    "import torch\n",
    "import numpy as np\n",
    "import cv2\n",
    "\n",
    "class CTCBCTDataset(Dataset):\n",
    "    def __init__(self, path: str) -> None:\n",
    "        super().__init__()\n",
    "        self.data = np.load(path)\n",
    "        self.ct = self.data['ct']\n",
    "        # self.cbct = self.data['cbct']\n",
    "        self.ct_masks = self.data['ct_masks']\n",
    "        # self.cbct_masks = self.data['cbct_masks']\n",
    "        self.n_patients = self.ct.shape[0]\n",
    "        self.n_slices = self.ct.shape[1]\n",
    "        self.length = self.n_patients * self.n_slices\n",
    "    \n",
    "    def canny_edge_detector(self, image, low_threshold=30, high_threshold=50, kernel_size=3):\n",
    "        blurred_image = cv2.GaussianBlur(image, (kernel_size, kernel_size), 0)\n",
    "        magnitude = cv2.Canny(blurred_image, low_threshold, high_threshold)\n",
    "        return torch.tensor(magnitude)/255.\n",
    "\n",
    "    def __len__(self):\n",
    "        return self.n_patients * self.n_slices\n",
    "    \n",
    "    def __getitem__(self, index):\n",
    "        index = index if index >= 0 else self.length + index\n",
    "        nth_patient = index//(self.n_slices)\n",
    "        nth_slice = index%(self.n_slices)\n",
    "        ct = torch.tensor(self.ct[nth_patient, nth_slice, :, :]).unsqueeze(0).to(torch.float32)/255.\n",
    "        ct_masks = torch.tensor(self.ct_masks[nth_patient, nth_slice, :, :]).unsqueeze(0).to(torch.float32)\n",
    "        ct_contours = self.canny_edge_detector(self.ct[nth_patient, nth_slice, :, :]).unsqueeze(0).to(torch.float32)\n",
    "        \n",
    "        return {\n",
    "            \"ct\": ct,\n",
    "            \"ct_masks\": ct_masks,\n",
    "            \"ct_contours\": ct_contours,\n",
    "            \"nth_patient\": torch.tensor([nth_patient], dtype=torch.int32),\n",
    "            \"nth_slice\": torch.tensor([nth_slice], dtype=torch.int32)\n",
    "        }"
   ]
  },
  {
   "cell_type": "code",
   "execution_count": null,
   "id": "631cc6e4-6ff5-446d-a742-8fc69875221b",
   "metadata": {},
   "outputs": [],
   "source": [
    "import numpy as np\n",
    "\n",
    "data = CTCBCTDataset('../data/data_256.npz')\n",
    "ct = data[0]['ct']\n",
    "ct_masks = data[0]['ct_masks']\n",
    "ct_contours = data[0]['ct_contours']\n",
    "print(np.unique(ct.numpy()), np.unique(ct_masks.numpy()), np.unique(ct_contours.numpy()))\n",
    "print(ct.shape, ct_masks.shape, ct_contours.shape)"
   ]
  },
  {
   "cell_type": "code",
   "execution_count": null,
   "id": "aa35c295",
   "metadata": {},
   "outputs": [],
   "source": [
    "import matplotlib.pyplot as plt\n",
    "import random\n",
    "\n",
    "index = random.randint(0, len(data)-1)\n",
    "curr_data = data[index]\n",
    "print(curr_data['ct'].shape, curr_data['ct_contours'].shape, curr_data['ct_masks'].shape)\n",
    "f, (ax11, ax12, ax13) = plt.subplots(1, 3, figsize=(10, 10))\n",
    "ax11.imshow(curr_data['ct'].permute(1, 2, 0), cmap='gray')\n",
    "ax12.imshow(curr_data['ct_masks'].permute(1, 2, 0), cmap='gray')\n",
    "ax13.imshow(curr_data['ct_contours'].permute(1, 2, 0), cmap='gray')"
   ]
  }
 ],
 "metadata": {
  "kernelspec": {
   "display_name": "sd-ctcbct",
   "language": "python",
   "name": "python3"
  },
  "language_info": {
   "codemirror_mode": {
    "name": "ipython",
    "version": 3
   },
   "file_extension": ".py",
   "mimetype": "text/x-python",
   "name": "python",
   "nbconvert_exporter": "python",
   "pygments_lexer": "ipython3",
   "version": "3.10.15"
  }
 },
 "nbformat": 4,
 "nbformat_minor": 5
}
